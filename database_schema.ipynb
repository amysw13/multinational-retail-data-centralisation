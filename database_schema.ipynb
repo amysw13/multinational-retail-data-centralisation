{
 "cells": [
  {
   "cell_type": "markdown",
   "metadata": {},
   "source": [
    "# Creating database schema\n",
    "\n",
    "In order to use this script in VS Code - first initiate a connection to centralised database 'sales_data'\n",
    "\n"
   ]
  },
  {
   "cell_type": "code",
   "execution_count": null,
   "metadata": {},
   "outputs": [],
   "source": [
    "from sqlalchemy import create_engine\n",
    "import yaml\n",
    "import pandas as pd"
   ]
  },
  {
   "cell_type": "code",
   "execution_count": null,
   "metadata": {},
   "outputs": [],
   "source": [
    "with open('Credentials/local_creds.yaml', 'r') as f:\n",
    "    local_creds = yaml.safe_load(f)\n",
    "local_db_engine = create_engine(f\"{local_creds['DATABASE_TYPE']}+{local_creds['DBAPI']}://{local_creds['USER']}:{local_creds['PASSWORD']}@{local_creds['HOST']}:{local_creds['PORT']}/{local_creds['DATABASE']}\")\n",
    "local_db_engine.execution_options(isolation_level='AUTOCOMMIT').connect()"
   ]
  },
  {
   "cell_type": "markdown",
   "metadata": {},
   "source": [
    "## Orders table\n",
    "\n",
    "Changing column datatypes\n",
    "\n",
    "Change the data types to correspond to those seen in the table below.\n",
    "\n",
    "The ? in VARCHAR should be replaced with an integer representing the maximum length of the values in that column."
   ]
  },
  {
   "cell_type": "code",
   "execution_count": null,
   "metadata": {},
   "outputs": [],
   "source": [
    "+------------------+--------------------+--------------------+\n",
    "|   orders_table   | current data type  | required data type |\n",
    "+------------------+--------------------+--------------------+\n",
    "| date_uuid        | TEXT               | UUID               |\n",
    "| user_uuid        | TEXT               | UUID               |\n",
    "| card_number      | TEXT               | VARCHAR(?)         |\n",
    "| store_code       | TEXT               | VARCHAR(?)         |\n",
    "| product_code     | TEXT               | VARCHAR(?)         |\n",
    "| product_quantity | BIGINT             | SMALLINT           |\n",
    "+------------------+--------------------+--------------------+"
   ]
  },
  {
   "cell_type": "code",
   "execution_count": null,
   "metadata": {
    "vscode": {
     "languageId": "sql"
    }
   },
   "outputs": [],
   "source": [
    "ALTER TABLE orders_table\n",
    "ALTER COLUMN date_uuid TYPE uuid\n",
    "USING date_uuid::uuid;"
   ]
  },
  {
   "cell_type": "code",
   "execution_count": null,
   "metadata": {
    "vscode": {
     "languageId": "sql"
    }
   },
   "outputs": [],
   "source": [
    "ALTER TABLE orders_table\n",
    "ALTER COLUMN user_uuid TYPE uuid\n",
    "USING user_uuid::uuid;"
   ]
  },
  {
   "cell_type": "markdown",
   "metadata": {},
   "source": [
    "Using pandas, finding out the maximum value length in each column. "
   ]
  },
  {
   "cell_type": "code",
   "execution_count": null,
   "metadata": {},
   "outputs": [],
   "source": [
    "#reading in sql table from local database as pandas data frame\n",
    "clean_orders_df = pd.read_sql_table('orders_table', local_db_engine)"
   ]
  },
  {
   "cell_type": "code",
   "execution_count": null,
   "metadata": {},
   "outputs": [],
   "source": [
    "for column in clean_orders_df:\n",
    "    print(column,\"->\", clean_orders_df[column].astype(str).str.len().max())"
   ]
  },
  {
   "cell_type": "code",
   "execution_count": null,
   "metadata": {
    "vscode": {
     "languageId": "sql"
    }
   },
   "outputs": [],
   "source": [
    "ALTER TABLE orders_table\n",
    "    ALTER COLUMN product_quantity TYPE SMALLINT,\n",
    "    ALTER COLUMN card_number TYPE VARCHAR(19),\n",
    "    ALTER COLUMN store_code TYPE VARCHAR(12),\n",
    "    ALTER COLUMN product_code TYPE VARCHAR(11);"
   ]
  },
  {
   "cell_type": "markdown",
   "metadata": {},
   "source": [
    "## Users table"
   ]
  },
  {
   "cell_type": "code",
   "execution_count": null,
   "metadata": {},
   "outputs": [],
   "source": [
    "+----------------+--------------------+--------------------+\n",
    "| dim_user_table | current data type  | required data type |\n",
    "+----------------+--------------------+--------------------+\n",
    "| first_name     | TEXT               | VARCHAR(255)       |\n",
    "| last_name      | TEXT               | VARCHAR(255)       |\n",
    "| date_of_birth  | TEXT               | DATE               |\n",
    "| country_code   | TEXT               | VARCHAR(?)         |\n",
    "| user_uuid      | TEXT               | UUID               |\n",
    "| join_date      | TEXT               | DATE               |\n",
    "+----------------+--------------------+--------------------+"
   ]
  },
  {
   "cell_type": "code",
   "execution_count": null,
   "metadata": {
    "vscode": {
     "languageId": "sql"
    }
   },
   "outputs": [],
   "source": [
    "ALTER TABLE dim_users\n",
    "    ALTER COLUMN first_name TYPE VARCHAR(255), \n",
    "    ALTER COLUMN last_name TYPE VARCHAR(255), \n",
    "    ALTER COLUMN date_of_birth TYPE DATE, \n",
    "    ALTER COLUMN country_code TYPE VARCHAR(3), \n",
    "    ALTER COLUMN user_uuid TYPE uuid USING user_uuid::uuid, \n",
    "    ALTER COLUMN join_date TYPE DATE;"
   ]
  },
  {
   "cell_type": "markdown",
   "metadata": {},
   "source": [
    "## Store details\n",
    "\n",
    "There are two latitude columns in the store details table. Using SQL, merge one of the columns into the other so you have one latitude column.\n",
    "\n",
    "Then set the data types for each column as shown below:\n",
    "\n",
    "\n",
    "There is a row that represents the business's website change the location column values where they're null to N/A."
   ]
  },
  {
   "cell_type": "code",
   "execution_count": null,
   "metadata": {},
   "outputs": [],
   "source": [
    "+---------------------+-------------------+------------------------+\n",
    "| store_details_table | current data type |   required data type   |\n",
    "+---------------------+-------------------+------------------------+\n",
    "| longitude           | TEXT              | FLOAT                  |\n",
    "| locality            | TEXT              | VARCHAR(255)           |\n",
    "| store_code          | TEXT              | VARCHAR(?)             |\n",
    "| staff_numbers       | TEXT              | SMALLINT               |\n",
    "| opening_date        | TEXT              | DATE                   |\n",
    "| store_type          | TEXT              | VARCHAR(255) NULLABLE  |\n",
    "| latitude            | TEXT              | FLOAT                  |\n",
    "| country_code        | TEXT              | VARCHAR(?)             |\n",
    "| continent           | TEXT              | VARCHAR(255)           |\n",
    "+---------------------+-------------------+------------------------+"
   ]
  },
  {
   "cell_type": "code",
   "execution_count": null,
   "metadata": {
    "vscode": {
     "languageId": "sql"
    }
   },
   "outputs": [],
   "source": [
    "UPDATE dim_store_details\n",
    "    SET locality = 'N/A'\n",
    "WHERE\n",
    "    store_type = 'Web Portal';"
   ]
  },
  {
   "cell_type": "code",
   "execution_count": null,
   "metadata": {
    "vscode": {
     "languageId": "sql"
    }
   },
   "outputs": [],
   "source": [
    "ALTER TABLE dim_store_details\n",
    "ALTER COLUMN longitude TYPE FLOAT USING longitude::FLOAT,\n",
    "ALTER COLUMN locality TYPE VARCHAR(255),\n",
    "ALTER COLUMN store_code TYPE VARCHAR(12),\n",
    "ALTER COLUMN staff_numbers TYPE SMALLINT,\n",
    "ALTER COLUMN opening_date TYPE DATE,\n",
    "ALTER COLUMN store_type TYPE VARCHAR(255),\n",
    "ALTER COLUMN latitude TYPE FLOAT USING latitude::FLOAT,\n",
    "ALTER COLUMN country_code TYPE VARCHAR(3),\n",
    "ALTER COLUMN continent TYPE VARCHAR(255);"
   ]
  },
  {
   "cell_type": "markdown",
   "metadata": {},
   "source": [
    "## Product details\n",
    "\n",
    "You will need to do some work on the products table before casting the data types correctly.\n",
    "\n",
    "The product_price column has a £ character which you need to remove using SQL.\n",
    "\n",
    "The team that handles the deliveries would like a new human-readable column added for the weight so they can quickly make decisions on delivery weights.\n",
    "\n",
    "Add a new column weight_class which will contain human-readable values based on the weight range of the product."
   ]
  },
  {
   "cell_type": "code",
   "execution_count": null,
   "metadata": {},
   "outputs": [],
   "source": [
    "+--------------------------+-------------------+\n",
    "| weight_class VARCHAR(?)  | weight range(kg)  |\n",
    "+--------------------------+-------------------+\n",
    "| Light                    | < 2               |\n",
    "| Mid_Sized                | >= 2 - < 40       |\n",
    "| Heavy                    | >= 40 - < 140     |\n",
    "| Truck_Required           | => 140            |\n",
    "+----------------------------+-----------------+"
   ]
  },
  {
   "cell_type": "code",
   "execution_count": null,
   "metadata": {
    "vscode": {
     "languageId": "sql"
    }
   },
   "outputs": [],
   "source": [
    "UPDATE\n",
    "  dim_products\n",
    "SET product_price = REGEXP_REPLACE(product_price, '£', '')"
   ]
  },
  {
   "cell_type": "markdown",
   "metadata": {},
   "source": [
    "Need to add the column, THEN update column based on conditionals"
   ]
  },
  {
   "cell_type": "code",
   "execution_count": null,
   "metadata": {
    "vscode": {
     "languageId": "sql"
    }
   },
   "outputs": [],
   "source": [
    "ALTER TABLE dim_products\n",
    "    ADD COLUMN weight_class VARCHAR(14);"
   ]
  },
  {
   "cell_type": "code",
   "execution_count": null,
   "metadata": {
    "vscode": {
     "languageId": "sql"
    }
   },
   "outputs": [],
   "source": [
    "UPDATE dim_products\n",
    "SET\n",
    "  weight_class = CASE\n",
    "    WHEN weight < 2 THEN 'Light'\n",
    "    WHEN weight >= 2\n",
    "    AND weight < 40 THEN 'Mid_Sized'\n",
    "    WHEN weight >= 40\n",
    "    AND weight < 140 THEN 'Heavy'\n",
    "    ELSE 'Truck_required'\n",
    "  END;"
   ]
  },
  {
   "cell_type": "markdown",
   "metadata": {},
   "source": [
    "After all the columns are created and cleaned, change the data types of the products table.\n",
    "\n",
    "You will want to rename the removed column to still_available before changing its data type.\n",
    "\n",
    "Make the changes to the columns to cast them to the following data types:"
   ]
  },
  {
   "cell_type": "code",
   "execution_count": null,
   "metadata": {},
   "outputs": [],
   "source": [
    "+-----------------+--------------------+--------------------+\n",
    "|  dim_products   | current data type  | required data type |\n",
    "+-----------------+--------------------+--------------------+\n",
    "| product_price   | TEXT               | FLOAT              |\n",
    "| weight          | TEXT               | FLOAT              |\n",
    "| EAN             | TEXT               | VARCHAR(?)         |\n",
    "| product_code    | TEXT               | VARCHAR(?)         |\n",
    "| date_added      | TEXT               | DATE               |\n",
    "| uuid            | TEXT               | UUID               |\n",
    "| still_available | TEXT               | BOOL               |\n",
    "| weight_class    | TEXT               | VARCHAR(?)         |\n",
    "+-----------------+--------------------+--------------------+"
   ]
  },
  {
   "cell_type": "code",
   "execution_count": null,
   "metadata": {
    "vscode": {
     "languageId": "sql"
    }
   },
   "outputs": [],
   "source": [
    "ALTER TABLE dim_products\n",
    "    RENAME removed TO still_available;"
   ]
  },
  {
   "cell_type": "code",
   "execution_count": null,
   "metadata": {},
   "outputs": [],
   "source": [
    "prod_df = pd.read_sql_table('dim_products', local_db_engine)\n",
    "\n",
    "for column in prod_df:\n",
    "    print(column,\"->\", prod_df[column].astype(str).str.len().max())"
   ]
  },
  {
   "cell_type": "code",
   "execution_count": null,
   "metadata": {
    "vscode": {
     "languageId": "sql"
    }
   },
   "outputs": [],
   "source": [
    "ALTER TABLE dim_products\n",
    "    ALTER COLUMN product_price TYPE FLOAT USING product_price::FLOAT,\n",
    "    ALTER COLUMN weight TYPE FLOAT,\n",
    "    ALTER COLUMN \"EAN\" TYPE VARCHAR(17),\n",
    "    ALTER COLUMN product_code TYPE VARCHAR(11),\n",
    "    ALTER COLUMN date_added TYPE DATE,\n",
    "    ALTER COLUMN uuid TYPE UUID USING uuid::UUID,\n",
    "    ALTER COLUMN still_available TYPE BOOLEAN USING CASE WHEN still_available = 'Still_avaliable' THEN TRUE ELSE FALSE END,\n",
    "    ALTER weight_class TYPE VARCHAR(14);"
   ]
  },
  {
   "cell_type": "markdown",
   "metadata": {},
   "source": [
    "## Date times"
   ]
  },
  {
   "cell_type": "code",
   "execution_count": null,
   "metadata": {},
   "outputs": [],
   "source": [
    "+-----------------+-------------------+--------------------+\n",
    "| dim_date_times  | current data type | required data type |\n",
    "+-----------------+-------------------+--------------------+\n",
    "| month           | TEXT              | VARCHAR(?)         |\n",
    "| year            | TEXT              | VARCHAR(?)         |\n",
    "| day             | TEXT              | VARCHAR(?)         |\n",
    "| time_period     | TEXT              | VARCHAR(?)         |\n",
    "| date_uuid       | TEXT              | UUID               |\n",
    "+-----------------+-------------------+--------------------+"
   ]
  },
  {
   "cell_type": "code",
   "execution_count": null,
   "metadata": {},
   "outputs": [],
   "source": [
    "date_times_df = pd.read_sql_table('dim_date_times', local_db_engine)\n",
    "\n",
    "for column in date_times_df:\n",
    "    print(column,\"->\", date_times_df[column].astype(str).str.len().max())"
   ]
  },
  {
   "cell_type": "code",
   "execution_count": null,
   "metadata": {},
   "outputs": [],
   "source": [
    "date_times_df.head()"
   ]
  },
  {
   "cell_type": "code",
   "execution_count": null,
   "metadata": {
    "vscode": {
     "languageId": "sql"
    }
   },
   "outputs": [],
   "source": [
    "ALTER TABLE dim_date_times\n",
    "    ALTER COLUMN month TYPE VARCHAR(2),\n",
    "    ALTER COLUMN year TYPE VARCHAR(4),\n",
    "    ALTER COLUMN day TYPE VARCHAR(2),\n",
    "    ALTER COLUMN time_period TYPE VARCHAR(10),\n",
    "    ALTER COLUMN date_uuid TYPE UUID USING date_uuid::UUID;\n"
   ]
  },
  {
   "cell_type": "markdown",
   "metadata": {},
   "source": [
    "Now we need to update the last table for the card details.\n",
    "\n",
    "Make the associated changes after finding out what the lengths of each variable should be:"
   ]
  },
  {
   "cell_type": "code",
   "execution_count": null,
   "metadata": {},
   "outputs": [],
   "source": [
    "+------------------------+-------------------+--------------------+\n",
    "|    dim_card_details    | current data type | required data type |\n",
    "+------------------------+-------------------+--------------------+\n",
    "| card_number            | TEXT              | VARCHAR(?)         |\n",
    "| expiry_date            | TEXT              | VARCHAR(?)         |\n",
    "| date_payment_confirmed | TEXT              | DATE               |\n",
    "+------------------------+-------------------+--------------------+"
   ]
  },
  {
   "cell_type": "code",
   "execution_count": null,
   "metadata": {},
   "outputs": [],
   "source": [
    "card_df = pd.read_sql_table('dim_card_details', local_db_engine)\n",
    "\n",
    "for column in card_df:\n",
    "    print(column,\"->\", card_df[column].astype(str).str.len().max())"
   ]
  },
  {
   "cell_type": "code",
   "execution_count": null,
   "metadata": {
    "vscode": {
     "languageId": "sql"
    }
   },
   "outputs": [],
   "source": [
    "ALTER TABLE dim_card_details\n",
    "    ALTER COLUMN card_number TYPE VARCHAR(19),\n",
    "    ALTER COLUMN expiry_date TYPE VARCHAR(5),\n",
    "    ALTER COLUMN date_payment_confirmed TYPE DATE;"
   ]
  },
  {
   "cell_type": "markdown",
   "metadata": {},
   "source": [
    "# Keys\n",
    "\n",
    "Now that the tables have the appropriate data types we can begin adding the primary keys to each of the tables prefixed with dim.\n",
    "\n",
    "Each table will serve the orders_table which will be the single source of truth for our orders.\n",
    "\n",
    "Check the column header of the orders_table you will see all but one of the columns exist in one of our tables prefixed with dim.\n",
    "\n",
    "We need to update the columns in the dim tables with a primary key that matches the same column in the orders_table.\n",
    "\n",
    "Using SQL, update the respective columns as primary key columns."
   ]
  },
  {
   "cell_type": "code",
   "execution_count": null,
   "metadata": {
    "vscode": {
     "languageId": "sql"
    }
   },
   "outputs": [],
   "source": [
    "ALTER TABLE dim_card_details\n",
    "    ADD PRIMARY KEY (card_number);"
   ]
  },
  {
   "cell_type": "code",
   "execution_count": null,
   "metadata": {
    "vscode": {
     "languageId": "sql"
    }
   },
   "outputs": [],
   "source": [
    "ALTER TABLE dim_date_times\n",
    "    ADD PRIMARY KEY (date_uuid);"
   ]
  },
  {
   "cell_type": "code",
   "execution_count": null,
   "metadata": {
    "vscode": {
     "languageId": "sql"
    }
   },
   "outputs": [],
   "source": [
    "ALTER TABLE dim_products\n",
    "    ADD PRIMARY KEY (product_code);"
   ]
  },
  {
   "cell_type": "code",
   "execution_count": null,
   "metadata": {
    "vscode": {
     "languageId": "sql"
    }
   },
   "outputs": [],
   "source": [
    "ALTER TABLE dim_store_details\n",
    "    ADD PRIMARY KEY (store_code);"
   ]
  },
  {
   "cell_type": "code",
   "execution_count": null,
   "metadata": {
    "vscode": {
     "languageId": "sql"
    }
   },
   "outputs": [],
   "source": [
    "ALTER TABLE dim_users\n",
    "    ADD PRIMARY KEY (user_uuid);"
   ]
  },
  {
   "cell_type": "markdown",
   "metadata": {},
   "source": [
    "## Foreign keys\n",
    "\n",
    "Keep getting a violation of constraints for creating foreign keys. \n",
    "\n",
    "This can be due to rows in the orders_table not matching the rows in your other table.\n",
    "\n",
    "A solution would be to do a left join and see where any nulls are created. "
   ]
  },
  {
   "cell_type": "code",
   "execution_count": null,
   "metadata": {
    "vscode": {
     "languageId": "sql"
    }
   },
   "outputs": [],
   "source": [
    "SELECT orders_table.card_number,\n",
    "    orders_table.index,\n",
    "    dim_card_details.index,\n",
    "    dim_card_details.card_number,\n",
    "    dim_card_details.card_provider,\n",
    "    dim_card_details.expiry_date,\n",
    "    dim_card_details.date_payment_confirmed\n",
    "FROM\n",
    "    orders_table\n",
    "LEFT OUTER JOIN\n",
    "    dim_card_details ON orders_table.card_number = dim_card_details.card_number\n"
   ]
  },
  {
   "cell_type": "markdown",
   "metadata": {},
   "source": [
    "Upon cross-checking NULL values, I managed to find the issue was during the cleaning methods of the card details dataframe after extraction. Some cleaning methods were not behaving as expected. "
   ]
  },
  {
   "cell_type": "code",
   "execution_count": null,
   "metadata": {
    "vscode": {
     "languageId": "sql"
    }
   },
   "outputs": [],
   "source": [
    "SELECT orders_table.product_code,\n",
    "    orders_table.index,\n",
    "    dim_products.index,\n",
    "    dim_products.product_code,\n",
    "    dim_products.product_name,\n",
    "    dim_products.category\n",
    "FROM\n",
    "    orders_table\n",
    "LEFT OUTER JOIN\n",
    "    dim_products ON orders_table.product_code = dim_products.product_code"
   ]
  },
  {
   "cell_type": "code",
   "execution_count": null,
   "metadata": {
    "vscode": {
     "languageId": "sql"
    }
   },
   "outputs": [],
   "source": [
    "SELECT orders_table.store_code,\n",
    "    orders_table.index,\n",
    "    dim_store_details.index,\n",
    "    dim_store_details.store_code,\n",
    "    dim_store_details.store_type,\n",
    "    dim_store_details.country_code\n",
    "FROM\n",
    "    orders_table\n",
    "LEFT OUTER JOIN\n",
    "    dim_store_details ON orders_table.store_code = dim_store_details.store_code"
   ]
  },
  {
   "cell_type": "code",
   "execution_count": null,
   "metadata": {
    "vscode": {
     "languageId": "sql"
    }
   },
   "outputs": [],
   "source": [
    "ALTER TABLE orders_table\n",
    "ADD FOREIGN KEY (card_number) REFERENCES dim_card_details(card_number),\n",
    "ADD FOREIGN KEY (date_uuid) REFERENCES dim_date_times(date_uuid),\n",
    "ADD FOREIGN KEY (product_code) REFERENCES dim_products(product_code),\n",
    "ADD FOREIGN KEY (store_code) REFERENCES dim_store_details(store_code),\n",
    "ADD FOREIGN KEY (user_uuid) REFERENCES dim_users(user_uuid)\n",
    "ON DELETE CASCADE\n",
    "ON UPDATE CASCADE;"
   ]
  }
 ],
 "metadata": {
  "kernelspec": {
   "display_name": "amy_multinational_env",
   "language": "python",
   "name": "python3"
  },
  "language_info": {
   "codemirror_mode": {
    "name": "ipython",
    "version": 3
   },
   "file_extension": ".py",
   "mimetype": "text/x-python",
   "name": "python",
   "nbconvert_exporter": "python",
   "pygments_lexer": "ipython3",
   "version": "3.11.5"
  }
 },
 "nbformat": 4,
 "nbformat_minor": 2
}
