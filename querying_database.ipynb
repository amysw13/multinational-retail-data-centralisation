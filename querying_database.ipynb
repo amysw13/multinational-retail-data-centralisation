{
 "cells": [
  {
   "cell_type": "code",
   "execution_count": null,
   "metadata": {},
   "outputs": [],
   "source": [
    "# The Operations team would like to know which countries we currently operate \n",
    "# in and which country now has the most stores. Perform a query on the database \n",
    "# to get the information, it should return the following information:\n",
    "\n",
    "+----------+-----------------+\n",
    "| country  | total_no_stores |\n",
    "+----------+-----------------+\n",
    "| GB       |             265 |\n",
    "| DE       |             141 |\n",
    "| US       |              34 |\n",
    "+----------+-----------------+\n",
    "\n",
    "# Note: DE is short for Deutschland(Germany)"
   ]
  },
  {
   "cell_type": "code",
   "execution_count": null,
   "metadata": {
    "vscode": {
     "languageId": "sql"
    }
   },
   "outputs": [],
   "source": [
    "SELECT country_code,\n",
    "    COUNT(country_code) AS total_no_stores\n",
    "FROM\n",
    "    dim_store_details\n",
    "WHERE\n",
    "    store_type != 'Web Portal'\n",
    "GROUP BY\n",
    "    country_code\n",
    "ORDER BY\n",
    "    total_no_stores DESC;\n"
   ]
  },
  {
   "cell_type": "code",
   "execution_count": null,
   "metadata": {},
   "outputs": [],
   "source": [
    "# The business stakeholders would like to know which locations currently have the most stores.\n",
    "\n",
    "# They would like to close some stores before opening more in other locations.\n",
    "\n",
    "# Find out which locations have the most stores currently. The query should return the following:\n",
    "\n",
    "+-------------------+-----------------+\n",
    "|     locality      | total_no_stores |\n",
    "+-------------------+-----------------+\n",
    "| Chapletown        |              14 |\n",
    "| Belper            |              13 |\n",
    "| Bushley           |              12 |\n",
    "| Exeter            |              11 |\n",
    "| High Wycombe      |              10 |\n",
    "| Arbroath          |              10 |\n",
    "| Rutherglen        |              10 |\n",
    "+-------------------+-----------------+"
   ]
  },
  {
   "cell_type": "code",
   "execution_count": null,
   "metadata": {
    "vscode": {
     "languageId": "sql"
    }
   },
   "outputs": [],
   "source": [
    "SELECT locality,\n",
    "    COUNT(locality) AS total_no_stores\n",
    "FROM\n",
    "    dim_store_details\n",
    "GROUP BY\n",
    "    locality\n",
    "ORDER BY\n",
    "    total_no_stores DESC\n",
    "LIMIT\n",
    "    7;"
   ]
  },
  {
   "cell_type": "code",
   "execution_count": null,
   "metadata": {},
   "outputs": [],
   "source": [
    "#Query the database to find out which months have produced the most sales. \n",
    "#The query should return the following information:\n",
    "\n",
    "+-------------+-------+\n",
    "| total_sales | month |\n",
    "+-------------+-------+\n",
    "|   673295.68 |     8 |\n",
    "|   668041.45 |     1 |\n",
    "|   657335.84 |    10 |\n",
    "|   650321.43 |     5 |\n",
    "|   645741.70 |     7 |\n",
    "|   645463.00 |     3 |\n",
    "+-------------+-------+"
   ]
  },
  {
   "cell_type": "code",
   "execution_count": null,
   "metadata": {
    "vscode": {
     "languageId": "sql"
    }
   },
   "outputs": [],
   "source": [
    "WITH product_sale_total AS (\n",
    "    SELECT\n",
    "        orders_table.product_code,\n",
    "        orders_table.date_uuid,\n",
    "        orders_table.product_quantity,\n",
    "        dim_products.product_price,\n",
    "        (dim_products.product_price * orders_table.product_quantity) AS product_sales\n",
    "    FROM\n",
    "        orders_table\n",
    "        LEFT JOIN dim_products ON orders_table.product_code = dim_products.product_code\n",
    "),\n",
    "order_months AS (\n",
    "    SELECT\n",
    "    dim_date_times.date_uuid,\n",
    "    dim_date_times.month\n",
    "    FROM\n",
    "        dim_date_times\n",
    "    LEFT JOIN\n",
    "        orders_table ON dim_date_times.date_uuid = orders_table.date_uuid\n",
    "),\n",
    "monthly_sales AS (\n",
    "    SELECT\n",
    "        order_months.month,\n",
    "        ROUND(SUM(product_sales)::numeric, 2) AS total_sales\n",
    "    FROM\n",
    "        product_sale_total\n",
    "    INNER JOIN\n",
    "    order_months ON product_sale_total.date_uuid = order_months.date_uuid\n",
    "    GROUP BY\n",
    "        order_months.month\n",
    ")\n",
    "\n",
    "SELECT * FROM monthly_sales\n",
    "    ORDER BY\n",
    "        total_sales DESC\n",
    "    LIMIT\n",
    "        6;"
   ]
  },
  {
   "cell_type": "code",
   "execution_count": null,
   "metadata": {},
   "outputs": [],
   "source": [
    "# The company is looking to increase its online sales.\n",
    "\n",
    "# They want to know how many sales are happening online vs offline.\n",
    "\n",
    "# Calculate how many products were sold and the amount of sales made for online and offline purchases.\n",
    "\n",
    "# You should get the following information:\n",
    "\n",
    "+------------------+-------------------------+----------+\n",
    "| numbers_of_sales | product_quantity_count  | location |\n",
    "+------------------+-------------------------+----------+\n",
    "|            26957 |                  107739 | Web      |\n",
    "|            93166 |                  374047 | Offline  |\n",
    "+------------------+-------------------------+----------+"
   ]
  },
  {
   "cell_type": "markdown",
   "metadata": {},
   "source": [
    "Originally, did a multiple CTE but was counting completely wrong. \n",
    "\n",
    "Much simpler creating a new column and then creating a single CTE for calculations. "
   ]
  },
  {
   "cell_type": "code",
   "execution_count": null,
   "metadata": {
    "vscode": {
     "languageId": "sql"
    }
   },
   "outputs": [],
   "source": [
    "--add column for store_location\n",
    "ALTER TABLE dim_store_details\n",
    "ADD COLUMN location VARCHAR(20);\n",
    "\n",
    "UPDATE dim_store_details\n",
    "SET location = CASE\n",
    "    WHEN store_type = 'Web Portal' THEN 'Web'\n",
    "    ELSE 'Offline'\n",
    "END;"
   ]
  },
  {
   "cell_type": "code",
   "execution_count": null,
   "metadata": {
    "vscode": {
     "languageId": "sql"
    }
   },
   "outputs": [],
   "source": [
    "WITH on_off_line_sales AS (\n",
    "    SELECT\n",
    "        dim_store_details.location,\n",
    "        COUNT(*) AS number_of_sales,\n",
    "        SUM(orders_table.product_quantity) AS product_quantity_count\n",
    "    FROM\n",
    "        orders_table\n",
    "    INNER JOIN\n",
    "        dim_store_details ON orders_table.store_code = dim_store_details.store_code\n",
    "    GROUP BY\n",
    "        location\n",
    ")\n",
    "\n",
    "SELECT\n",
    "    number_of_sales,\n",
    "    product_quantity_count,\n",
    "    location\n",
    "FROM\n",
    "    on_off_line_sales\n",
    "ORDER BY \n",
    "    location DESC;"
   ]
  },
  {
   "cell_type": "code",
   "execution_count": null,
   "metadata": {},
   "outputs": [],
   "source": [
    "# The sales team wants to know which of the different store types is generated the most revenue so they know where to focus.\n",
    "# Find out the total and percentage of sales coming from each of the different store types.\n",
    "# The query should return:\n",
    "\n",
    "+-------------+-------------+---------------------+\n",
    "| store_type  | total_sales | percentage_total(%) |\n",
    "+-------------+-------------+---------------------+\n",
    "| Local       |  3440896.52 |               44.87 |\n",
    "| Web portal  |  1726547.05 |               22.44 |\n",
    "| Super Store |  1224293.65 |               15.63 |\n",
    "| Mall Kiosk  |   698791.61 |                8.96 |\n",
    "| Outlet      |   631804.81 |                8.10 |\n",
    "+-------------+-------------+---------------------+"
   ]
  },
  {
   "cell_type": "code",
   "execution_count": null,
   "metadata": {
    "vscode": {
     "languageId": "sql"
    }
   },
   "outputs": [],
   "source": [
    "WITH product_sale_total AS (\n",
    "    SELECT\n",
    "        orders_table.product_code,\n",
    "        orders_table.store_code,\n",
    "        orders_table.product_quantity,\n",
    "        dim_products.product_price,\n",
    "        (dim_products.product_price * orders_table.product_quantity) AS product_sales\n",
    "    FROM\n",
    "        orders_table\n",
    "    LEFT JOIN dim_products ON orders_table.product_code = dim_products.product_code\n",
    "),\n",
    "store_orders AS (\n",
    "    SELECT\n",
    "        dim_store_details.store_code,\n",
    "        dim_store_details.store_type,\n",
    "        product_sale_total.*\n",
    "    FROM\n",
    "        dim_store_details\n",
    "    LEFT JOIN\n",
    "        product_sale_total ON dim_store_details.store_code = product_sale_total.store_code\n",
    "),\n",
    "store_sales AS (\n",
    "    SELECT\n",
    "        store_orders.store_type,\n",
    "        COUNT(store_orders.store_type) AS number_of_stores,\n",
    "        ROUND(SUM(store_orders.product_sales)::numeric, 2) AS total_sales\n",
    "    FROM\n",
    "        store_orders\n",
    "    GROUP BY\n",
    "        store_orders.store_type\n",
    ")\n",
    "\n",
    "SELECT\n",
    "    store_type,\n",
    "    total_sales,\n",
    "    ROUND((number_of_stores / SUM(number_of_stores) OVER ())::numeric * 100, 2) AS percentage_total --here need ti add the over() function!\n",
    "FROM\n",
    "    store_sales\n",
    "ORDER BY\n",
    "    percentage_total DESC;"
   ]
  },
  {
   "cell_type": "code",
   "execution_count": null,
   "metadata": {},
   "outputs": [],
   "source": [
    "# The company stakeholders want assurances that the company has been doing well recently.\n",
    "\n",
    "# Find which months in which years have had the most sales historically.\n",
    "\n",
    "# The query should return the following information:\n",
    "\n",
    "+-------------+------+-------+\n",
    "| total_sales | year | month |\n",
    "+-------------+------+-------+\n",
    "|    27936.77 | 1994 |     3 |\n",
    "|    27356.14 | 2019 |     1 |\n",
    "|    27091.67 | 2009 |     8 |\n",
    "|    26679.98 | 1997 |    11 |\n",
    "|    26310.97 | 2018 |    12 |\n",
    "|    26277.72 | 2019 |     8 |\n",
    "|    26236.67 | 2017 |     9 |\n",
    "|    25798.12 | 2010 |     5 |\n",
    "|    25648.29 | 1996 |     8 |\n",
    "|    25614.54 | 2000 |     1 |\n",
    "+-------------+------+-------+"
   ]
  },
  {
   "cell_type": "code",
   "execution_count": null,
   "metadata": {
    "vscode": {
     "languageId": "sql"
    }
   },
   "outputs": [],
   "source": [
    "WITH product_sale_total AS (\n",
    "    SELECT\n",
    "        orders_table.product_code,\n",
    "        orders_table.date_uuid,\n",
    "        orders_table.product_quantity,\n",
    "        dim_products.product_price,\n",
    "        (dim_products.product_price * orders_table.product_quantity) AS product_sales\n",
    "    FROM\n",
    "        orders_table\n",
    "        LEFT JOIN dim_products ON orders_table.product_code = dim_products.product_code\n",
    "),\n",
    "order_months AS (\n",
    "    SELECT\n",
    "    dim_date_times.date_uuid,\n",
    "    dim_date_times.month,\n",
    "    dim_date_times.year\n",
    "    FROM\n",
    "        dim_date_times\n",
    "    LEFT JOIN\n",
    "        orders_table ON dim_date_times.date_uuid = orders_table.date_uuid\n",
    "),\n",
    "monthly_sales AS (\n",
    "    SELECT\n",
    "        order_months.month,\n",
    "        order_months.year,\n",
    "        ROUND(SUM(product_sales)::numeric, 2) AS total_sales\n",
    "    FROM\n",
    "        product_sale_total\n",
    "    INNER JOIN\n",
    "    order_months ON product_sale_total.date_uuid = order_months.date_uuid\n",
    "    GROUP BY\n",
    "        order_months.month,\n",
    "        order_months.year\n",
    ")\n",
    "\n",
    "SELECT \n",
    "    total_sales,\n",
    "    year,\n",
    "    month\n",
    "FROM monthly_sales\n",
    "    ORDER BY\n",
    "        total_sales DESC\n",
    "    LIMIT\n",
    "        10;"
   ]
  },
  {
   "cell_type": "code",
   "execution_count": null,
   "metadata": {},
   "outputs": [],
   "source": [
    "# The operations team would like to know the overall staff numbers in each location around the world. Perform a query to determine the staff numbers in each of the countries the company sells in.\n",
    "\n",
    "# The query should return the values:\n",
    "\n",
    "+---------------------+--------------+\n",
    "| total_staff_numbers | country_code |\n",
    "+---------------------+--------------+\n",
    "|               13307 | GB           |\n",
    "|                6123 | DE           |\n",
    "|                1384 | US           |\n",
    "+---------------------+--------------+"
   ]
  },
  {
   "cell_type": "code",
   "execution_count": null,
   "metadata": {
    "vscode": {
     "languageId": "sql"
    }
   },
   "outputs": [],
   "source": [
    "SELECT country_code,\n",
    "    SUM(staff_numbers) AS total_staff_numbers\n",
    "FROM\n",
    "    dim_store_details\n",
    "GROUP BY\n",
    "    country_code\n",
    "ORDER BY\n",
    "    total_staff_numbers DESC;"
   ]
  },
  {
   "cell_type": "code",
   "execution_count": null,
   "metadata": {},
   "outputs": [],
   "source": [
    "# The sales team is looking to expand their territory in Germany. Determine which type of store is generating the most sales in Germany.\n",
    "\n",
    "# The query will return:\n",
    "\n",
    "+--------------+-------------+--------------+\n",
    "| total_sales  | store_type  | country_code |\n",
    "+--------------+-------------+--------------+\n",
    "|   198373.57  | Outlet      | DE           |\n",
    "|   247634.20  | Mall Kiosk  | DE           |\n",
    "|   384625.03  | Super Store | DE           |\n",
    "|  1109909.59  | Local       | DE           |\n",
    "+--------------+-------------+--------------+"
   ]
  },
  {
   "cell_type": "code",
   "execution_count": null,
   "metadata": {
    "vscode": {
     "languageId": "sql"
    }
   },
   "outputs": [],
   "source": [
    "WITH product_sale_total AS (\n",
    "    SELECT\n",
    "        orders_table.product_code,\n",
    "        orders_table.store_code,\n",
    "        orders_table.product_quantity,\n",
    "        dim_products.product_price,\n",
    "        (dim_products.product_price * orders_table.product_quantity) AS product_sales\n",
    "    FROM\n",
    "        orders_table\n",
    "    LEFT JOIN dim_products ON orders_table.product_code = dim_products.product_code\n",
    "),\n",
    "store_orders AS (\n",
    "    SELECT\n",
    "        dim_store_details.store_code,\n",
    "        dim_store_details.store_type,\n",
    "        dim_store_details.country_code,\n",
    "        product_sale_total.*\n",
    "    FROM\n",
    "        dim_store_details\n",
    "    LEFT JOIN\n",
    "        product_sale_total ON dim_store_details.store_code = product_sale_total.store_code\n",
    "),\n",
    "store_sales AS (\n",
    "    SELECT\n",
    "        store_orders.store_type,\n",
    "        store_orders.country_code,\n",
    "        COUNT(store_orders.store_type) AS number_of_stores,\n",
    "        ROUND(SUM(store_orders.product_sales)::numeric, 2) AS total_sales\n",
    "    FROM\n",
    "        store_orders\n",
    "    WHERE\n",
    "        store_orders.country_code = 'DE'\n",
    "    GROUP BY\n",
    "        store_orders.store_type,\n",
    "        store_orders.country_code\n",
    ")\n",
    "\n",
    "SELECT\n",
    "    total_sales,\n",
    "    store_type,\n",
    "    country_code\n",
    "FROM\n",
    "    store_sales\n",
    "ORDER BY\n",
    "    total_sales;"
   ]
  },
  {
   "cell_type": "code",
   "execution_count": null,
   "metadata": {},
   "outputs": [],
   "source": [
    "# Sales would like the get an accurate metric for how quickly \n",
    "#the company is making sales.\n",
    "\n",
    "# Determine the average time taken between each sale grouped by year, \n",
    "#the query should return the following information:\n",
    "\n",
    " +------+-------------------------------------------------------+\n",
    " | year |                           actual_time_taken           |\n",
    " +------+-------------------------------------------------------+\n",
    " | 2013 | \"hours\": 2, \"minutes\": 17, \"seconds\": 12, \"millise... |\n",
    " | 1993 | \"hours\": 2, \"minutes\": 15, \"seconds\": 35, \"millise... |\n",
    " | 2002 | \"hours\": 2, \"minutes\": 13, \"seconds\": 50, \"millise... | \n",
    " | 2022 | \"hours\": 2, \"minutes\": 13, \"seconds\": 6,  \"millise... |\n",
    " | 2008 | \"hours\": 2, \"minutes\": 13, \"seconds\": 2,  \"millise... |\n",
    " +------+-------------------------------------------------------+\n",
    "\n",
    "#First get all timestamps and day, month, year - group by date?  and calculate time\n",
    "#between each rows, grouped by the date. Sales for that date,\n",
    "\n",
    "#Then once sales are calculated can get the average time of sales over each year.\n",
    "#"
   ]
  },
  {
   "cell_type": "markdown",
   "metadata": {},
   "source": [
    "## My Solution"
   ]
  },
  {
   "cell_type": "code",
   "execution_count": null,
   "metadata": {
    "vscode": {
     "languageId": "sql"
    }
   },
   "outputs": [],
   "source": [
    "\n",
    "with order_timing AS (\n",
    "    SELECT\n",
    "        dim_date_times.timestamp,\n",
    "        dim_date_times.day,\n",
    "        dim_date_times.month,\n",
    "        dim_date_times.year,\n",
    "        TO_TIMESTAMP(CONCAT(year, '/', month, '/', day, '/', timestamp), 'YYYY/MM/DD/HH24:MI:ss') as times\n",
    "    FROM\n",
    "        dim_date_times\n",
    "\tORDER BY\n",
    "        year\n",
    "),\n",
    "sale_times AS (\n",
    "    SELECT\n",
    "        order_timing.timestamp,\n",
    "        order_timing.year,   \n",
    "        times - LAG (times) OVER (PARTITION BY year ORDER BY timestamp, year) AS time_between_sales\n",
    "    FROM\n",
    "        order_timing\n",
    "), \n",
    "\n",
    "SELECT \n",
    "    year,\n",
    "    AVG(time_between_sales) AS total_time_between_sales\n",
    "FROM \n",
    "    sale_times\n",
    "GROUP BY\n",
    "     year\n",
    "\n",
    "\n"
   ]
  },
  {
   "cell_type": "markdown",
   "metadata": {},
   "source": [
    "## AI Core solution"
   ]
  },
  {
   "cell_type": "code",
   "execution_count": null,
   "metadata": {
    "vscode": {
     "languageId": "sql"
    }
   },
   "outputs": [],
   "source": [
    "WITH date_times AS (\n",
    "SELECT\n",
    "year,\n",
    "month,\n",
    "day,\n",
    "timestamp,\n",
    "TO_TIMESTAMP(CONCAT(year, '/', month, '/', day, '/', timestamp), 'YYYY/MM/DD/HH24:MI:ss') as times\n",
    "FROM dim_date_times d\n",
    "\t\tJOIN orders_table o -- this join is unnecessary \n",
    "\t\tON d.date_uuid = o.date_uuid\n",
    "\t\tJOIN dim_store_details s\n",
    "\t\tON o.store_code = s.store_code\n",
    "ORDER BY times DESC),\n",
    "\t\t   \t\n",
    "next_times AS(\n",
    "SELECT year,\n",
    "timestamp,\n",
    "times,\n",
    "LEAD(times) OVER(ORDER BY times DESC) AS next_times\n",
    "FROM date_times),\n",
    "\n",
    "avg_times AS(\n",
    "SELECT year,\n",
    "(AVG(times - next_times)) AS avg_times\n",
    "FROM next_times\n",
    "GROUP BY year\n",
    "ORDER BY avg_times DESC)\n",
    "\n",
    "SELECT year,\n",
    "-- concat('hours: ', cast(round(avg(EXTRACT(HOUR FROM avg_times))) as text),\n",
    "-- \t   ', minutes: ', cast(round(avg(EXTRACT(MINUTE FROM avg_times))) as text),\n",
    "-- \t   ', seconds: ', cast(round(avg(EXTRACT(SECOND FROM avg_times))) as text))\n",
    "-- \t   as actual_time_taken\n",
    "\n",
    "\tCONCAT('\"Hours\": ', (EXTRACT(HOUR FROM avg_times)),','\n",
    "\t' \"minutes\" :', (EXTRACT(MINUTE FROM avg_times)),','\n",
    "    ' \"seconds\" :', ROUND(EXTRACT(SECOND FROM avg_times)),','\n",
    "     ' \"milliseconds\" :', ROUND((EXTRACT( SECOND FROM avg_times)- FLOOR(EXTRACT(SECOND FROM avg_times)))*100))\n",
    "\t\n",
    "   as actual_time_taken\n",
    "\n",
    "\n",
    "FROM avg_times\n",
    "GROUP BY year, avg_times\n",
    "ORDER BY avg_times DESC\n",
    "LIMIT 5;"
   ]
  },
  {
   "cell_type": "markdown",
   "metadata": {},
   "source": [
    "## My adjustment to AI Core solution"
   ]
  },
  {
   "cell_type": "code",
   "execution_count": null,
   "metadata": {
    "vscode": {
     "languageId": "sql"
    }
   },
   "outputs": [],
   "source": [
    "WITH date_times AS (\n",
    "    SELECT\n",
    "        year,\n",
    "        month,\n",
    "        day,\n",
    "        timestamp,\n",
    "        TO_TIMESTAMP(CONCAT(year, '/', month, '/', day, '/', timestamp), 'YYYY/MM/DD/HH24:MI:ss') AS times --creating a datetime column\n",
    "    FROM \n",
    "        dim_date_times d\n",
    "    ORDER BY \n",
    "        times DESC\n",
    "),\t\t   \t\n",
    "next_times AS(\n",
    "    SELECT \n",
    "        year,\n",
    "        timestamp,\n",
    "        times,\n",
    "        LEAD(times) OVER(ORDER BY times DESC) AS next_times -- adds the next sales timestamp to a new column\n",
    "    FROM \n",
    "        date_times\n",
    "),\n",
    "avg_times AS(\n",
    "    SELECT \n",
    "        year,\n",
    "        (AVG(times - next_times)) AS avg_times\n",
    "    FROM \n",
    "        next_times\n",
    "    GROUP BY \n",
    "        year\n",
    "    ORDER BY \n",
    "        avg_times DESC\n",
    ")\n",
    "\n",
    "SELECT \n",
    "    year,\n",
    "\tCONCAT('\"Hours\": ', (EXTRACT(HOUR FROM avg_times)),','\n",
    "\t' \"minutes\" :', (EXTRACT(MINUTE FROM avg_times)),','\n",
    "    ' \"seconds\" :', ROUND(EXTRACT(SECOND FROM avg_times)),','\n",
    "    ' \"milliseconds\" :', ROUND((EXTRACT( SECOND FROM avg_times) - FLOOR(EXTRACT(SECOND FROM avg_times)))*100)) AS actual_time_taken\n",
    "FROM \n",
    "    avg_times\n",
    "GROUP BY \n",
    "    year, avg_times\n",
    "ORDER BY \n",
    "    avg_times DESC\n",
    "LIMIT \n",
    "    5;"
   ]
  }
 ],
 "metadata": {
  "kernelspec": {
   "display_name": "amy_multinational_env",
   "language": "python",
   "name": "python3"
  },
  "language_info": {
   "codemirror_mode": {
    "name": "ipython",
    "version": 3
   },
   "file_extension": ".py",
   "mimetype": "text/x-python",
   "name": "python",
   "nbconvert_exporter": "python",
   "pygments_lexer": "ipython3",
   "version": "3.11.5"
  }
 },
 "nbformat": 4,
 "nbformat_minor": 2
}
